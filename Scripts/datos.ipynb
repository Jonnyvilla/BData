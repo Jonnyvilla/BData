{
 "cells": [
  {
   "cell_type": "code",
   "execution_count": 1,
   "id": "0b13a92a-d49c-4f47-a4bd-3c70438bea78",
   "metadata": {
    "tags": []
   },
   "outputs": [
    {
     "name": "stdout",
     "output_type": "stream",
     "text": [
      "Requirement already satisfied: pyspark in c:\\users\\gmovil\\anaconda3\\lib\\site-packages (3.5.0)Note: you may need to restart the kernel to use updated packages.\n",
      "\n",
      "Requirement already satisfied: py4j==0.10.9.7 in c:\\users\\gmovil\\anaconda3\\lib\\site-packages (from pyspark) (0.10.9.7)\n"
     ]
    }
   ],
   "source": [
    "pip install pyspark"
   ]
  },
  {
   "cell_type": "code",
   "execution_count": 2,
   "id": "d6082d6c-b585-432e-a725-572a87f1e229",
   "metadata": {
    "tags": []
   },
   "outputs": [
    {
     "name": "stdout",
     "output_type": "stream",
     "text": [
      "Requirement already satisfied: findspark in c:\\users\\gmovil\\anaconda3\\lib\\site-packages (2.0.1)\n",
      "Note: you may need to restart the kernel to use updated packages.\n"
     ]
    }
   ],
   "source": [
    "pip install findspark"
   ]
  },
  {
   "cell_type": "code",
   "execution_count": 3,
   "id": "af9c42e0-c116-4d61-a163-df264b3cd78e",
   "metadata": {
    "tags": []
   },
   "outputs": [],
   "source": [
    "import findspark\n",
    "findspark.init()"
   ]
  },
  {
   "cell_type": "code",
   "execution_count": null,
   "id": "937b3bde-3fb6-46ba-9273-71f4e2a45084",
   "metadata": {},
   "outputs": [],
   "source": [
    "from pyspark.sql import SparkSession\n",
    "\n",
    "spark = SparkSession.builder \\\n",
    "    .appName(\"Flujo de Trabajo con Apache Spark\") \\\n",
    "    .getOrCreate()"
   ]
  },
  {
   "cell_type": "code",
   "execution_count": 4,
   "id": "a6a17a97-c7ee-4fb3-aa4a-1f9010f43ee4",
   "metadata": {
    "tags": []
   },
   "outputs": [],
   "source": [
    "def procesar_datos(spark, ruta_entrada, ruta_salida):\n",
    "    # Cargar datos desde la fuente\n",
    "    datos = spark.read.csv(ruta_entrada, header=True, inferSchema=True)\n",
    "\n",
    "    # Realizar algún procesamiento o transformación\n",
    "    datos_procesados = datos.select(\"columna1\", \"columna2\").filter(datos[\"columna3\"] > 10)\n",
    "\n",
    "    # Guardar los resultados\n",
    "    datos_procesados.write.csv(ruta_salida, header=True, mode=\"overwrite\")"
   ]
  }
 ],
 "metadata": {
  "kernelspec": {
   "display_name": "Python 3 (ipykernel)",
   "language": "python",
   "name": "python3"
  },
  "language_info": {
   "codemirror_mode": {
    "name": "ipython",
    "version": 3
   },
   "file_extension": ".py",
   "mimetype": "text/x-python",
   "name": "python",
   "nbconvert_exporter": "python",
   "pygments_lexer": "ipython3",
   "version": "3.11.5"
  }
 },
 "nbformat": 4,
 "nbformat_minor": 5
}
